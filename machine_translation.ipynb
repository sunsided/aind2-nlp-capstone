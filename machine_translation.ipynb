{
 "cells": [
  {
   "cell_type": "markdown",
   "metadata": {
    "collapsed": true
   },
   "source": [
    "# Artificial Intelligence Nanodegree\n",
    "## Machine Translation Project\n",
    "In this notebook, sections that end with **'(IMPLEMENTATION)'** in the header indicate that the following blocks of code will require additional functionality which you must provide. Please be sure to read the instructions carefully!\n",
    "\n",
    "## Introduction\n",
    "In this notebook, you will build a deep neural network that functions as part of an end-to-end machine translation pipeline. Your completed pipeline will accept English text as input and return the French translation.\n",
    "\n",
    "- **Preprocess** - You'll convert text to sequence of integers.\n",
    "- **Models** Create models which accepts a sequence of integers as input and returns a probability distribution over possible translations. After learning about the basic types of neural networks that are often used for machine translation, you will engage in your own investigations, to design your own model!\n",
    "- **Prediction** Run the model on English text.\n",
    "\n",
    "## Dataset\n",
    "We begin by investigating the dataset that will be used to train and evaluate your pipeline.  The most common datasets used for machine translation are from [WMT](http://www.statmt.org/).  However, that will take a long time to train a neural network on.  We'll be using a dataset we created for this project that contains a small vocabulary.  You'll be able to train your model in a reasonable time with this dataset.\n",
    "### Load Data\n",
    "The data is located in `data/small_vocab_en` and `data/small_vocab_fr`. The `small_vocab_en` file contains English sentences with their French translations in the `small_vocab_fr` file. Load the English and French data from these files from running the cell below."
   ]
  },
  {
   "cell_type": "code",
   "execution_count": 1,
   "metadata": {},
   "outputs": [
    {
     "name": "stdout",
     "output_type": "stream",
     "text": [
      "Dataset Loaded\n"
     ]
    }
   ],
   "source": [
    "import helper\n",
    "\n",
    "\n",
    "# Load English data\n",
    "english_sentences = helper.load_data('data/small_vocab_en')\n",
    "# Load French data\n",
    "french_sentences = helper.load_data('data/small_vocab_fr')\n",
    "\n",
    "print('Dataset Loaded')"
   ]
  },
  {
   "cell_type": "markdown",
   "metadata": {},
   "source": [
    "### Files\n",
    "Each line in `small_vocab_en` contains an English sentence with the respective translation in each line of `small_vocab_fr`.  View the first two lines from each file."
   ]
  },
  {
   "cell_type": "code",
   "execution_count": 2,
   "metadata": {},
   "outputs": [
    {
     "name": "stdout",
     "output_type": "stream",
     "text": [
      "small_vocab_en Line 1:  new jersey is sometimes quiet during autumn , and it is snowy in april .\n",
      "small_vocab_fr Line 1:  new jersey est parfois calme pendant l' automne , et il est neigeux en avril .\n",
      "small_vocab_en Line 2:  the united states is usually chilly during july , and it is usually freezing in november .\n",
      "small_vocab_fr Line 2:  les états-unis est généralement froid en juillet , et il gèle habituellement en novembre .\n"
     ]
    }
   ],
   "source": [
    "for sample_i in range(2):\n",
    "    print('small_vocab_en Line {}:  {}'.format(sample_i + 1, english_sentences[sample_i]))\n",
    "    print('small_vocab_fr Line {}:  {}'.format(sample_i + 1, french_sentences[sample_i]))"
   ]
  },
  {
   "cell_type": "markdown",
   "metadata": {},
   "source": [
    "From looking at the sentences, you can see they have been preprocessed already.  The puncuations have been delimited using spaces. All the text have been converted to lowercase.  This should save you some time, but the text requires more preprocessing.\n",
    "### Vocabulary\n",
    "The complexity of the problem is determined by the complexity of the vocabulary.  A more complex vocabulary is a more complex problem.  Let's look at the complexity of the dataset we'll be working with."
   ]
  },
  {
   "cell_type": "code",
   "execution_count": 3,
   "metadata": {},
   "outputs": [
    {
     "name": "stdout",
     "output_type": "stream",
     "text": [
      "1823250 English words.\n",
      "227 unique English words.\n",
      "10 Most common words in the English dataset:\n",
      "\"is\" \",\" \".\" \"in\" \"it\" \"during\" \"the\" \"but\" \"and\" \"sometimes\"\n",
      "\n",
      "1961295 French words.\n",
      "355 unique French words.\n",
      "10 Most common words in the French dataset:\n",
      "\"est\" \".\" \",\" \"en\" \"il\" \"les\" \"mais\" \"et\" \"la\" \"parfois\"\n"
     ]
    }
   ],
   "source": [
    "import collections\n",
    "\n",
    "\n",
    "english_words_counter = collections.Counter([word for sentence in english_sentences for word in sentence.split()])\n",
    "french_words_counter = collections.Counter([word for sentence in french_sentences for word in sentence.split()])\n",
    "\n",
    "print('{} English words.'.format(len([word for sentence in english_sentences for word in sentence.split()])))\n",
    "print('{} unique English words.'.format(len(english_words_counter)))\n",
    "print('10 Most common words in the English dataset:')\n",
    "print('\"' + '\" \"'.join(list(zip(*english_words_counter.most_common(10)))[0]) + '\"')\n",
    "print()\n",
    "print('{} French words.'.format(len([word for sentence in french_sentences for word in sentence.split()])))\n",
    "print('{} unique French words.'.format(len(french_words_counter)))\n",
    "print('10 Most common words in the French dataset:')\n",
    "print('\"' + '\" \"'.join(list(zip(*french_words_counter.most_common(10)))[0]) + '\"')"
   ]
  },
  {
   "cell_type": "markdown",
   "metadata": {},
   "source": [
    "For comparison, _Alice's Adventures in Wonderland_ contains 2,766 unique words of a total of 15,500 words.\n",
    "## Preprocess\n",
    "For this project, you won't use text data as input to your model. Instead, you'll convert the text into sequences of integers using the following preprocess methods:\n",
    "1. Tokenize the words into ids\n",
    "2. Add padding to make all the sequences the same length.\n",
    "\n",
    "Time to start preprocessing the data...\n",
    "### Tokenize (IMPLEMENTATION)\n",
    "For a neural network to predict on text data, it first has to be turned into data it can understand. Text data like \"dog\" is a sequence of ASCII character encodings.  Since a neural network is a series of multiplication and addition operations, the input data needs to be number(s).\n",
    "\n",
    "We can turn each character into a number or each word into a number.  These are called character and word ids, respectively.  Character ids are used for character level models that generate text predictions for each character.  A word level model uses word ids that generate text predictions for each word.  Word level models tend to learn better, since they are lower in complexity, so we'll use those.\n",
    "\n",
    "Turn each sentence into a sequence of words ids using Keras's [`Tokenizer`](https://keras.io/preprocessing/text/#tokenizer) function. Use this function to tokenize `english_sentences` and `french_sentences` in the cell below.\n",
    "\n",
    "Running the cell will run `tokenize` on sample data and show output for debugging."
   ]
  },
  {
   "cell_type": "code",
   "execution_count": 8,
   "metadata": {},
   "outputs": [
    {
     "name": "stdout",
     "output_type": "stream",
     "text": [
      "{'a': 3, 'lazy': 8, 'won': 16, 'quick': 2, 'sentence': 21, 'fox': 5, 'brown': 4, 'lexicography': 15, 'jove': 11, 'this': 18, 'the': 1, 'my': 12, 'prize': 17, 'study': 13, 'short': 20, 'over': 7, 'dog': 9, 'by': 10, 'is': 19, 'of': 14, 'jumps': 6}\n",
      "\n",
      "Sequence 1 in x\n",
      "  Input:  The quick brown fox jumps over the lazy dog .\n",
      "  Output: [1, 2, 4, 5, 6, 7, 1, 8, 9]\n",
      "Sequence 2 in x\n",
      "  Input:  By Jove , my quick study of lexicography won a prize .\n",
      "  Output: [10, 11, 12, 2, 13, 14, 15, 16, 3, 17]\n",
      "Sequence 3 in x\n",
      "  Input:  This is a short sentence .\n",
      "  Output: [18, 19, 3, 20, 21]\n"
     ]
    }
   ],
   "source": [
    "import project_tests as tests\n",
    "from keras.preprocessing.text import Tokenizer\n",
    "\n",
    "\n",
    "def tokenize(x):\n",
    "    \"\"\"\n",
    "    Tokenize x\n",
    "    :param x: List of sentences/strings to be tokenized\n",
    "    :return: Tuple of (tokenized x data, tokenizer used to tokenize x)\n",
    "    \"\"\"\n",
    "    \n",
    "    # By setting (keeping) num_words at None, the Tokenizer will\n",
    "    # use all words available in the input text. If we want to restrict\n",
    "    # it to the top N words, we would use num_words=N here.\n",
    "    tokenizer = Tokenizer(num_words=None, char_level=False)\n",
    "    tokenizer.fit_on_texts(x)\n",
    "    \n",
    "    return tokenizer.texts_to_sequences(x), tokenizer\n",
    "\n",
    "tests.test_tokenize(tokenize)\n",
    "\n",
    "# Tokenize Example output\n",
    "text_sentences = [\n",
    "    'The quick brown fox jumps over the lazy dog .',\n",
    "    'By Jove , my quick study of lexicography won a prize .',\n",
    "    'This is a short sentence .']\n",
    "text_tokenized, text_tokenizer = tokenize(text_sentences)\n",
    "print(text_tokenizer.word_index)\n",
    "print()\n",
    "for sample_i, (sent, token_sent) in enumerate(zip(text_sentences, text_tokenized)):\n",
    "    print('Sequence {} in x'.format(sample_i + 1))\n",
    "    print('  Input:  {}'.format(sent))\n",
    "    print('  Output: {}'.format(token_sent))"
   ]
  },
  {
   "cell_type": "markdown",
   "metadata": {},
   "source": [
    "### Padding (IMPLEMENTATION)\n",
    "When batching the sequence of word ids together, each sequence needs to be the same length.  Since sentences are dynamic in length, we can add padding to the end of the sequences to make them the same length.\n",
    "\n",
    "Make sure all the English sequences have the same length and all the French sequences have the same length by adding padding to the **end** of each sequence using Keras's [`pad_sequences`](https://keras.io/preprocessing/sequence/#pad_sequences) function."
   ]
  },
  {
   "cell_type": "code",
   "execution_count": 11,
   "metadata": {},
   "outputs": [
    {
     "name": "stdout",
     "output_type": "stream",
     "text": [
      "Sequence 1 in x\n",
      "  Input:  [1 2 4 5 6 7 1 8 9]\n",
      "  Output: [1 2 4 5 6 7 1 8 9 0]\n",
      "Sequence 2 in x\n",
      "  Input:  [10 11 12  2 13 14 15 16  3 17]\n",
      "  Output: [10 11 12  2 13 14 15 16  3 17]\n",
      "Sequence 3 in x\n",
      "  Input:  [18 19  3 20 21]\n",
      "  Output: [18 19  3 20 21  0  0  0  0  0]\n"
     ]
    }
   ],
   "source": [
    "import numpy as np\n",
    "from keras.preprocessing.sequence import pad_sequences\n",
    "\n",
    "\n",
    "def pad(x, length=None):\n",
    "    \"\"\"\n",
    "    Pad x\n",
    "    :param x: List of sequences.\n",
    "    :param length: Length to pad the sequence to.  If None, use length of longest sequence in x.\n",
    "    :return: Padded numpy array of sequences\n",
    "    \"\"\"\n",
    "    # Pad at the end, but should a sentence be longer than the specified\n",
    "    # length, truncate from the beginning. Sutskever et al. describe in\n",
    "    # \"Sequence to Sequence Learning with Neural Networks\" that feeding the\n",
    "    # sentence to the network in reverse introduces meaningful short-term\n",
    "    # dependencies that help in training a recurrent network. Keeping the\n",
    "    # end of the sentence rather than the beginning is our best approximation\n",
    "    # here. This assumes we're processing romanic languages.\n",
    "    return pad_sequences(x, maxlen=length, padding='post', truncating='pre')\n",
    "\n",
    "tests.test_pad(pad)\n",
    "\n",
    "# Pad Tokenized output\n",
    "test_pad = pad(text_tokenized)\n",
    "for sample_i, (token_sent, pad_sent) in enumerate(zip(text_tokenized, test_pad)):\n",
    "    print('Sequence {} in x'.format(sample_i + 1))\n",
    "    print('  Input:  {}'.format(np.array(token_sent)))\n",
    "    print('  Output: {}'.format(pad_sent))"
   ]
  },
  {
   "cell_type": "markdown",
   "metadata": {},
   "source": [
    "### Preprocess Pipeline\n",
    "Your focus for this project is to build neural network architecture, so we won't ask you to create a preprocess pipeline.  Instead, we've provided you with the implementation of the `preprocess` function."
   ]
  },
  {
   "cell_type": "code",
   "execution_count": 12,
   "metadata": {},
   "outputs": [
    {
     "name": "stdout",
     "output_type": "stream",
     "text": [
      "Data Preprocessed\n"
     ]
    }
   ],
   "source": [
    "def preprocess(x, y):\n",
    "    \"\"\"\n",
    "    Preprocess x and y\n",
    "    :param x: Feature List of sentences\n",
    "    :param y: Label List of sentences\n",
    "    :return: Tuple of (Preprocessed x, Preprocessed y, x tokenizer, y tokenizer)\n",
    "    \"\"\"\n",
    "    preprocess_x, x_tk = tokenize(x)\n",
    "    preprocess_y, y_tk = tokenize(y)\n",
    "\n",
    "    preprocess_x = pad(preprocess_x)\n",
    "    preprocess_y = pad(preprocess_y)\n",
    "\n",
    "    # Keras's sparse_categorical_crossentropy function requires the labels to be in 3 dimensions\n",
    "    preprocess_y = preprocess_y.reshape(*preprocess_y.shape, 1)\n",
    "\n",
    "    return preprocess_x, preprocess_y, x_tk, y_tk\n",
    "\n",
    "preproc_english_sentences, preproc_french_sentences, english_tokenizer, french_tokenizer =\\\n",
    "    preprocess(english_sentences, french_sentences)\n",
    "\n",
    "print('Data Preprocessed')"
   ]
  },
  {
   "cell_type": "markdown",
   "metadata": {},
   "source": [
    "## Models\n",
    "In this section, you will experiment with various neural network architectures.\n",
    "You will begin by training four relatively simple architectures.\n",
    "\n",
    "- Model 1 is a simple RNN\n",
    "- Model 2 is a RNN with Embedding\n",
    "- Model 3 is a Bidirectional RNN\n",
    "- Model 4 is an optional Encoder-Decoder RNN\n",
    "\n",
    "After experimenting with the four simple architectures, you will construct a deeper architecture that is designed to outperform all four models.\n",
    "\n",
    "### Ids Back to Text\n",
    "The neural network will be translating the input to words ids, which isn't the final form we want.  We want the French translation.  The function `logits_to_text` will bridge the gap between the logits from the neural network to the French translation.  You'll be using this function to better understand the output of the neural network."
   ]
  },
  {
   "cell_type": "code",
   "execution_count": 13,
   "metadata": {},
   "outputs": [
    {
     "name": "stdout",
     "output_type": "stream",
     "text": [
      "`logits_to_text` function loaded.\n"
     ]
    }
   ],
   "source": [
    "def logits_to_text(logits, tokenizer):\n",
    "    \"\"\"\n",
    "    Turn logits from a neural network into text using the tokenizer\n",
    "    :param logits: Logits from a neural network\n",
    "    :param tokenizer: Keras Tokenizer fit on the labels\n",
    "    :return: String that represents the text of the logits\n",
    "    \"\"\"\n",
    "    index_to_words = {id: word for word, id in tokenizer.word_index.items()}\n",
    "    index_to_words[0] = '<PAD>'\n",
    "\n",
    "    return ' '.join([index_to_words[prediction] for prediction in np.argmax(logits, 1)])\n",
    "\n",
    "print('`logits_to_text` function loaded.')"
   ]
  },
  {
   "cell_type": "markdown",
   "metadata": {},
   "source": [
    "### Model 1: RNN (IMPLEMENTATION)\n",
    "\n",
    "Note to self: The image appears to be a bit misleading because the `brown` position of the English text corresponds with the `renard` position of the French text. This is technically correct; `renard`, however, means `fox`. As [Wikipedia](https://fr.wikipedia.org/wiki/The_quick_brown_fox_jumps_over_the_lazy_dog) gives away, `The quick brown fox jumps over the lazy dog` translates to `Le vif renard brun saute par-dessus le chien paresseux` - this sentence is tailored to contain all letters of the alphabet, but it shows that the `the brown fox` is `le renard brun` indeed.\n",
    "\n",
    "![RNN](images/rnn.png)\n",
    "A basic RNN model is a good baseline for sequence data.  In this model, you'll build a RNN that translates English to French."
   ]
  },
  {
   "cell_type": "code",
   "execution_count": 37,
   "metadata": {},
   "outputs": [
    {
     "name": "stdout",
     "output_type": "stream",
     "text": [
      "English vocabulary size: 199\n",
      "French vocabulary size: 344\n"
     ]
    }
   ],
   "source": [
    "print('English vocabulary size:', len(english_tokenizer.word_index))\n",
    "print('French vocabulary size:', len(french_tokenizer.word_index))"
   ]
  },
  {
   "cell_type": "code",
   "execution_count": 53,
   "metadata": {},
   "outputs": [
    {
     "name": "stdout",
     "output_type": "stream",
     "text": [
      "Train on 110288 samples, validate on 27573 samples\n",
      "Epoch 1/10\n",
      "110288/110288 [==============================] - 8s - loss: 2.3885 - acc: 0.5252 - val_loss: nan - val_acc: 0.6004\n",
      "Epoch 2/10\n",
      "110288/110288 [==============================] - 7s - loss: 1.5002 - acc: 0.6130 - val_loss: nan - val_acc: 0.6199\n",
      "Epoch 3/10\n",
      "110288/110288 [==============================] - 7s - loss: 1.3766 - acc: 0.6336 - val_loss: nan - val_acc: 0.6434\n",
      "Epoch 4/10\n",
      "110288/110288 [==============================] - 7s - loss: 1.3118 - acc: 0.6496 - val_loss: nan - val_acc: 0.6563\n",
      "Epoch 5/10\n",
      "110288/110288 [==============================] - 7s - loss: 1.2617 - acc: 0.6600 - val_loss: nan - val_acc: 0.6643\n",
      "Epoch 6/10\n",
      "110288/110288 [==============================] - 7s - loss: 1.2206 - acc: 0.6705 - val_loss: nan - val_acc: 0.6800\n",
      "Epoch 7/10\n",
      "110288/110288 [==============================] - 7s - loss: 1.1865 - acc: 0.6802 - val_loss: nan - val_acc: 0.6859\n",
      "Epoch 8/10\n",
      "110288/110288 [==============================] - 7s - loss: 1.1573 - acc: 0.6881 - val_loss: nan - val_acc: 0.6913\n",
      "Epoch 9/10\n",
      "110288/110288 [==============================] - 7s - loss: 1.1320 - acc: 0.6931 - val_loss: nan - val_acc: 0.6970\n",
      "Epoch 10/10\n",
      "110288/110288 [==============================] - 7s - loss: 1.1066 - acc: 0.6986 - val_loss: nan - val_acc: 0.7004\n",
      "new jersey est parfois calme en mois et il est est en en <PAD> <PAD> <PAD> <PAD> <PAD> <PAD> <PAD> <PAD>\n"
     ]
    }
   ],
   "source": [
    "from keras.layers import GRU, Input, Dense, TimeDistributed\n",
    "from keras.models import Model\n",
    "from keras.layers.advanced_activations import PReLU\n",
    "from keras.optimizers import Adam\n",
    "from keras.losses import sparse_categorical_crossentropy\n",
    "\n",
    "\n",
    "def simple_model(input_shape, output_sequence_length, english_vocab_size, french_vocab_size, \n",
    "                 learning_rate: float=0.001):\n",
    "    \"\"\"\n",
    "    Build and train a basic RNN on x and y\n",
    "    :param input_shape: Tuple of input shape\n",
    "    :param output_sequence_length: Length of output sequence\n",
    "    :param english_vocab_size: Number of unique English words in the dataset\n",
    "    :param french_vocab_size: Number of unique French words in the dataset\n",
    "    :return: Keras model built, but not trained\n",
    "    \"\"\"\n",
    "    \n",
    "    inputs = Input(shape=input_shape[1:])\n",
    "    \n",
    "    recurrent = GRU(units=output_sequence_length, return_sequences=True, activation=None)(inputs)\n",
    "    recurrent = PReLU()(recurrent)\n",
    "\n",
    "    # Each of the `output_sequence_length` output time steps should\n",
    "    # be a vector of `max(1024, 2*french_vocab_size)` dimensions.\n",
    "    dense = TimeDistributed(Dense(max(1024, 2*french_vocab_size), activation=None))(recurrent)\n",
    "    dense = PReLU()(dense)\n",
    "    \n",
    "    # Not applying dropout because the network doesn't appear to\n",
    "    # overfit in the given scenario.\n",
    "        \n",
    "    # Each of the `output_sequence_length` output time steps should\n",
    "    # be a vector of `french_vocab_size` dimensions.\n",
    "    output = TimeDistributed(Dense(french_vocab_size, activation='softmax'))(dense)\n",
    "    \n",
    "    model = Model(inputs=inputs, outputs=output)\n",
    "    model.compile(loss=sparse_categorical_crossentropy,\n",
    "                  optimizer=Adam(learning_rate),\n",
    "                  metrics=['accuracy'])\n",
    "    return model\n",
    "\n",
    "tests.test_simple_model(simple_model)\n",
    "\n",
    "\n",
    "# Reshaping the input to work with a basic RNN\n",
    "tmp_x = pad(preproc_english_sentences, preproc_french_sentences.shape[1])\n",
    "tmp_x = tmp_x.reshape((-1, preproc_french_sentences.shape[-2], 1))\n",
    "\n",
    "# Train the neural network\n",
    "simple_rnn_model = simple_model(\n",
    "    tmp_x.shape,\n",
    "    preproc_french_sentences.shape[1],\n",
    "    len(english_tokenizer.word_index),\n",
    "    len(french_tokenizer.word_index))\n",
    "simple_rnn_model.fit(tmp_x, preproc_french_sentences, batch_size=1024, epochs=10, validation_split=0.2)\n",
    "\n",
    "# Print prediction(s)\n",
    "print(logits_to_text(simple_rnn_model.predict(tmp_x[:1])[0], french_tokenizer))"
   ]
  },
  {
   "cell_type": "markdown",
   "metadata": {},
   "source": [
    "That's 70% accuracy on the validation set. Here's the constructed network."
   ]
  },
  {
   "cell_type": "code",
   "execution_count": 119,
   "metadata": {},
   "outputs": [
    {
     "name": "stdout",
     "output_type": "stream",
     "text": [
      "_________________________________________________________________\n",
      "Layer (type)                 Output Shape              Param #   \n",
      "=================================================================\n",
      "input_56 (InputLayer)        (None, 21, 1)             0         \n",
      "_________________________________________________________________\n",
      "gru_56 (GRU)                 (None, 21, 21)            1449      \n",
      "_________________________________________________________________\n",
      "p_re_lu_31 (PReLU)           (None, 21, 21)            441       \n",
      "_________________________________________________________________\n",
      "time_distributed_80 (TimeDis (None, 21, 1024)          22528     \n",
      "_________________________________________________________________\n",
      "p_re_lu_32 (PReLU)           (None, 21, 1024)          21504     \n",
      "_________________________________________________________________\n",
      "time_distributed_81 (TimeDis (None, 21, 344)           352600    \n",
      "=================================================================\n",
      "Total params: 398,522\n",
      "Trainable params: 398,522\n",
      "Non-trainable params: 0\n",
      "_________________________________________________________________\n"
     ]
    }
   ],
   "source": [
    "simple_rnn_model.summary()"
   ]
  },
  {
   "cell_type": "markdown",
   "metadata": {},
   "source": [
    "### Model 2: Embedding (IMPLEMENTATION)\n",
    "![RNN](images/embedding.png)\n",
    "You've turned the words into ids, but there's a better representation of a word.  This is called word embeddings.  An embedding is a vector representation of the word that is close to similar words in n-dimensional space, where the n represents the size of the embedding vectors.\n",
    "\n",
    "In this model, you'll create a RNN model using embedding."
   ]
  },
  {
   "cell_type": "code",
   "execution_count": 140,
   "metadata": {},
   "outputs": [
    {
     "name": "stdout",
     "output_type": "stream",
     "text": [
      "Train on 110288 samples, validate on 27573 samples\n",
      "Epoch 1/10\n",
      "110288/110288 [==============================] - 10s - loss: 2.8404 - acc: 0.5057 - val_loss: nan - val_acc: 0.6438\n",
      "Epoch 2/10\n",
      "110288/110288 [==============================] - 8s - loss: 1.0909 - acc: 0.7025 - val_loss: nan - val_acc: 0.7467\n",
      "Epoch 3/10\n",
      "110288/110288 [==============================] - 8s - loss: 0.7331 - acc: 0.7819 - val_loss: nan - val_acc: 0.8053\n",
      "Epoch 4/10\n",
      "110288/110288 [==============================] - 8s - loss: 0.5936 - acc: 0.8158 - val_loss: nan - val_acc: 0.8266\n",
      "Epoch 5/10\n",
      "110288/110288 [==============================] - 8s - loss: 0.5225 - acc: 0.8350 - val_loss: nan - val_acc: 0.8434\n",
      "Epoch 6/10\n",
      "110288/110288 [==============================] - 8s - loss: 0.4757 - acc: 0.8474 - val_loss: nan - val_acc: 0.8531\n",
      "Epoch 7/10\n",
      "110288/110288 [==============================] - 8s - loss: 0.4406 - acc: 0.8569 - val_loss: nan - val_acc: 0.8599\n",
      "Epoch 8/10\n",
      "110288/110288 [==============================] - 8s - loss: 0.4169 - acc: 0.8629 - val_loss: nan - val_acc: 0.8669\n",
      "Epoch 9/10\n",
      "110288/110288 [==============================] - 8s - loss: 0.3950 - acc: 0.8693 - val_loss: nan - val_acc: 0.8725\n",
      "Epoch 10/10\n",
      "110288/110288 [==============================] - 8s - loss: 0.3789 - acc: 0.8737 - val_loss: nan - val_acc: 0.8754\n",
      "new jersey est parfois calme au cours et et il est neigeux en en <PAD> <PAD> <PAD> <PAD> <PAD> <PAD> <PAD>\n"
     ]
    }
   ],
   "source": [
    "from keras.layers.embeddings import Embedding\n",
    "from keras.layers import Reshape\n",
    "\n",
    "\n",
    "def embed_model(input_shape, output_sequence_length, english_vocab_size, french_vocab_size, \n",
    "                 learning_rate: float=0.001, english_embedding_size: int=256):\n",
    "    \"\"\"\n",
    "    Build and train a RNN model using word embedding on x and y\n",
    "    :param input_shape: Tuple of input shape\n",
    "    :param output_sequence_length: Length of output sequence\n",
    "    :param english_vocab_size: Number of unique English words in the dataset\n",
    "    :param french_vocab_size: Number of unique French words in the dataset\n",
    "    :return: Keras model built, but not trained\n",
    "    \"\"\"\n",
    "    inputs = Input(shape=input_shape[1:])\n",
    "    \n",
    "    embed_english = Embedding(english_vocab_size, english_embedding_size, input_length=input_shape[1])(inputs)\n",
    "    \n",
    "    recurrent = GRU(units=output_sequence_length, return_sequences=True, activation=None)(embed_english)\n",
    "    recurrent = PReLU()(recurrent)\n",
    "\n",
    "    dense = TimeDistributed(Dense(max(1024, 2*french_vocab_size), activation=None))(recurrent)\n",
    "    dense = PReLU()(dense)\n",
    "    \n",
    "    output = TimeDistributed(Dense(french_vocab_size, activation='softmax'))(dense)\n",
    "    \n",
    "    model = Model(inputs=inputs, outputs=output)\n",
    "    model.compile(loss=sparse_categorical_crossentropy,\n",
    "                  optimizer=Adam(learning_rate),\n",
    "                  metrics=['accuracy'])\n",
    "    return model\n",
    "\n",
    "# The unit test for test_embed_model() differs from the other ones\n",
    "# in the shape of the input. I'm skipping the reshape in the implementation below.\n",
    "tests.test_embed_model(embed_model)\n",
    "\n",
    "\n",
    "# Reshape the input\n",
    "tmp_x = pad(preproc_english_sentences, preproc_french_sentences.shape[1])\n",
    "\n",
    "# Train the neural network\n",
    "embedding_model = embed_model(\n",
    "    tmp_x.shape,\n",
    "    preproc_french_sentences.shape[1],\n",
    "    len(english_tokenizer.word_index),\n",
    "    len(french_tokenizer.word_index))\n",
    "embedding_model.fit(tmp_x, preproc_french_sentences, batch_size=1024, epochs=10, validation_split=0.2)\n",
    "\n",
    "# Print prediction(s)\n",
    "print(logits_to_text(embedding_model.predict(tmp_x[:1])[0], french_tokenizer))"
   ]
  },
  {
   "cell_type": "markdown",
   "metadata": {},
   "source": [
    "With the embedding layer we easily hit 87% accuracy on the validation set. Here's the constructed network:"
   ]
  },
  {
   "cell_type": "code",
   "execution_count": 117,
   "metadata": {},
   "outputs": [
    {
     "name": "stdout",
     "output_type": "stream",
     "text": [
      "_________________________________________________________________\n",
      "Layer (type)                 Output Shape              Param #   \n",
      "=================================================================\n",
      "input_98 (InputLayer)        (None, 21)                0         \n",
      "_________________________________________________________________\n",
      "embedding_37 (Embedding)     (None, 21, 256)           50944     \n",
      "_________________________________________________________________\n",
      "gru_92 (GRU)                 (None, 21, 21)            17514     \n",
      "_________________________________________________________________\n",
      "p_re_lu_67 (PReLU)           (None, 21, 21)            441       \n",
      "_________________________________________________________________\n",
      "time_distributed_116 (TimeDi (None, 21, 1024)          22528     \n",
      "_________________________________________________________________\n",
      "p_re_lu_68 (PReLU)           (None, 21, 1024)          21504     \n",
      "_________________________________________________________________\n",
      "time_distributed_117 (TimeDi (None, 21, 344)           352600    \n",
      "=================================================================\n",
      "Total params: 465,531\n",
      "Trainable params: 465,531\n",
      "Non-trainable params: 0\n",
      "_________________________________________________________________\n"
     ]
    }
   ],
   "source": [
    "embedding_model.summary()"
   ]
  },
  {
   "cell_type": "markdown",
   "metadata": {},
   "source": [
    "### Model 3: Bidirectional RNNs (IMPLEMENTATION)\n",
    "![RNN](images/bidirectional.png)\n",
    "One restriction of a RNN is that it can't see the future input, only the past.  This is where bidirectional recurrent neural networks come in.  They are able to see the future data."
   ]
  },
  {
   "cell_type": "code",
   "execution_count": 132,
   "metadata": {},
   "outputs": [
    {
     "name": "stdout",
     "output_type": "stream",
     "text": [
      "Train on 110288 samples, validate on 27573 samples\n",
      "Epoch 1/10\n",
      "110288/110288 [==============================] - 11s - loss: 1.5743 - acc: 0.6127 - val_loss: nan - val_acc: 0.6623\n",
      "Epoch 2/10\n",
      "110288/110288 [==============================] - 9s - loss: 1.0768 - acc: 0.6772 - val_loss: nan - val_acc: 0.6959\n",
      "Epoch 3/10\n",
      "110288/110288 [==============================] - 9s - loss: 0.9777 - acc: 0.7005 - val_loss: nan - val_acc: 0.6990\n",
      "Epoch 4/10\n",
      "110288/110288 [==============================] - 9s - loss: 0.9246 - acc: 0.7106 - val_loss: nan - val_acc: 0.7114\n",
      "Epoch 5/10\n",
      "110288/110288 [==============================] - 9s - loss: 0.9054 - acc: 0.7139 - val_loss: nan - val_acc: 0.7190\n",
      "Epoch 6/10\n",
      "110288/110288 [==============================] - 9s - loss: 0.8674 - acc: 0.7207 - val_loss: nan - val_acc: 0.7228\n",
      "Epoch 7/10\n",
      "110288/110288 [==============================] - 9s - loss: 0.8423 - acc: 0.7256 - val_loss: nan - val_acc: 0.7312\n",
      "Epoch 8/10\n",
      "110288/110288 [==============================] - 9s - loss: 0.8281 - acc: 0.7297 - val_loss: nan - val_acc: 0.7391\n",
      "Epoch 9/10\n",
      "110288/110288 [==============================] - 9s - loss: 0.8136 - acc: 0.7346 - val_loss: nan - val_acc: 0.7291\n",
      "Epoch 10/10\n",
      "110288/110288 [==============================] - 9s - loss: 0.7761 - acc: 0.7464 - val_loss: nan - val_acc: 0.7305\n",
      "new jersey est parfois calme au mois et il est beau en en <PAD> <PAD> <PAD> <PAD> <PAD> <PAD> <PAD> <PAD>\n"
     ]
    }
   ],
   "source": [
    "from keras.layers import Bidirectional\n",
    "\n",
    "\n",
    "def bd_model(input_shape, output_sequence_length, english_vocab_size, french_vocab_size,\n",
    "            learning_rate: float = 0.01):\n",
    "    \"\"\"\n",
    "    Build and train a bidirectional RNN model on x and y\n",
    "    :param input_shape: Tuple of input shape\n",
    "    :param output_sequence_length: Length of output sequence\n",
    "    :param english_vocab_size: Number of unique English words in the dataset\n",
    "    :param french_vocab_size: Number of unique French words in the dataset\n",
    "    :return: Keras model built, but not trained\n",
    "    \"\"\"\n",
    "    inputs = Input(shape=input_shape[1:])\n",
    "    \n",
    "    recurrent = GRU(units=output_sequence_length, return_sequences=True, activation=None)   \n",
    "    bidirectional = Bidirectional(recurrent, input_shape=input_shape[1:])(inputs)\n",
    "    bidirectional = PReLU()(bidirectional)\n",
    "    \n",
    "    dense = TimeDistributed(Dense(max(1024, 2*french_vocab_size), activation=None))(bidirectional)\n",
    "    dense = PReLU()(dense)\n",
    "    \n",
    "    output = TimeDistributed(Dense(french_vocab_size, activation='softmax'))(dense)\n",
    "    \n",
    "    model = Model(inputs=inputs, outputs=output)\n",
    "    model.compile(loss=sparse_categorical_crossentropy,\n",
    "                  optimizer=Adam(learning_rate),\n",
    "                  metrics=['accuracy'])\n",
    "    return model\n",
    "\n",
    "tests.test_bd_model(bd_model)\n",
    "\n",
    "\n",
    "# Reshaping the input\n",
    "tmp_x = pad(preproc_english_sentences, preproc_french_sentences.shape[1])\n",
    "tmp_x = tmp_x.reshape((-1, preproc_french_sentences.shape[-2], 1))\n",
    "\n",
    "# Train the neural network\n",
    "bidirectional_model = bd_model(\n",
    "    tmp_x.shape,\n",
    "    preproc_french_sentences.shape[1],\n",
    "    len(english_tokenizer.word_index),\n",
    "    len(french_tokenizer.word_index))\n",
    "bidirectional_model.fit(tmp_x, preproc_french_sentences, batch_size=1024, epochs=10, validation_split=0.2)\n",
    "\n",
    "# Print prediction(s)\n",
    "print(logits_to_text(bidirectional_model.predict(tmp_x[:1])[0], french_tokenizer))"
   ]
  },
  {
   "cell_type": "markdown",
   "metadata": {},
   "source": [
    "With 73% accuracy on the validation set, this approach is slightly better than the plain forward-only RNN, but still much worse than the network using embeddings. Here's the layout:"
   ]
  },
  {
   "cell_type": "code",
   "execution_count": 133,
   "metadata": {},
   "outputs": [
    {
     "name": "stdout",
     "output_type": "stream",
     "text": [
      "_________________________________________________________________\n",
      "Layer (type)                 Output Shape              Param #   \n",
      "=================================================================\n",
      "input_114 (InputLayer)       (None, 21, 1)             0         \n",
      "_________________________________________________________________\n",
      "bidirectional_13 (Bidirectio (None, 21, 42)            2898      \n",
      "_________________________________________________________________\n",
      "p_re_lu_84 (PReLU)           (None, 21, 42)            882       \n",
      "_________________________________________________________________\n",
      "time_distributed_130 (TimeDi (None, 21, 1024)          44032     \n",
      "_________________________________________________________________\n",
      "p_re_lu_85 (PReLU)           (None, 21, 1024)          21504     \n",
      "_________________________________________________________________\n",
      "time_distributed_131 (TimeDi (None, 21, 344)           352600    \n",
      "=================================================================\n",
      "Total params: 421,916\n",
      "Trainable params: 421,916\n",
      "Non-trainable params: 0\n",
      "_________________________________________________________________\n"
     ]
    }
   ],
   "source": [
    "bidirectional_model.summary()"
   ]
  },
  {
   "cell_type": "markdown",
   "metadata": {},
   "source": [
    "### Model 4: Encoder-Decoder (OPTIONAL)\n",
    "Time to look at encoder-decoder models.  This model is made up of an encoder and decoder. The encoder creates a matrix representation of the sentence.  The decoder takes this matrix as input and predicts the translation as output.\n",
    "\n",
    "Create an encoder-decoder model in the cell below."
   ]
  },
  {
   "cell_type": "code",
   "execution_count": 138,
   "metadata": {},
   "outputs": [
    {
     "name": "stdout",
     "output_type": "stream",
     "text": [
      "Train on 110288 samples, validate on 27573 samples\n",
      "Epoch 1/10\n",
      "110288/110288 [==============================] - 9s - loss: 2.2135 - acc: 0.5087 - val_loss: nan - val_acc: 0.5389\n",
      "Epoch 2/10\n",
      "110288/110288 [==============================] - 7s - loss: 1.5672 - acc: 0.5818 - val_loss: nan - val_acc: 0.5980\n",
      "Epoch 3/10\n",
      "110288/110288 [==============================] - 7s - loss: 1.4252 - acc: 0.6071 - val_loss: nan - val_acc: 0.6048\n",
      "Epoch 4/10\n",
      "110288/110288 [==============================] - 7s - loss: 1.3786 - acc: 0.6176 - val_loss: nan - val_acc: 0.6232\n",
      "Epoch 5/10\n",
      "110288/110288 [==============================] - 7s - loss: 1.3462 - acc: 0.6246 - val_loss: nan - val_acc: 0.6242\n",
      "Epoch 6/10\n",
      "110288/110288 [==============================] - 7s - loss: 1.3231 - acc: 0.6296 - val_loss: nan - val_acc: 0.6253\n",
      "Epoch 7/10\n",
      "110288/110288 [==============================] - 7s - loss: 1.2769 - acc: 0.6395 - val_loss: nan - val_acc: 0.6462\n",
      "Epoch 8/10\n",
      "110288/110288 [==============================] - 7s - loss: 1.2530 - acc: 0.6450 - val_loss: nan - val_acc: 0.6512\n",
      "Epoch 9/10\n",
      "110288/110288 [==============================] - 7s - loss: 1.2721 - acc: 0.6407 - val_loss: nan - val_acc: 0.6414\n",
      "Epoch 10/10\n",
      "110288/110288 [==============================] - 7s - loss: 1.2609 - acc: 0.6419 - val_loss: nan - val_acc: 0.6497\n",
      "new jersey est généralement chaud en mois mais il est il en en <PAD> <PAD> <PAD> <PAD> <PAD> <PAD> <PAD> <PAD>\n"
     ]
    }
   ],
   "source": [
    "from keras.layers import RepeatVector\n",
    "\n",
    "\n",
    "def encdec_model(input_shape, output_sequence_length, english_vocab_size, french_vocab_size,\n",
    "                learning_rate: float=0.01):\n",
    "    \"\"\"\n",
    "    Build and train an encoder-decoder model on x and y\n",
    "    :param input_shape: Tuple of input shape\n",
    "    :param output_sequence_length: Length of output sequence\n",
    "    :param english_vocab_size: Number of unique English words in the dataset\n",
    "    :param french_vocab_size: Number of unique French words in the dataset\n",
    "    :return: Keras model built, but not trained\n",
    "    \"\"\"\n",
    "\n",
    "    inputs = Input(shape=input_shape[1:])\n",
    "    \n",
    "    recurrent = GRU(units=output_sequence_length, return_sequences=False, activation=None)(inputs)\n",
    "    recurrent = PReLU()(recurrent)\n",
    "\n",
    "    repeated = RepeatVector(output_sequence_length)(recurrent)\n",
    "    \n",
    "    recurrent = GRU(units=output_sequence_length, return_sequences=True, activation=None)(repeated)\n",
    "    recurrent = PReLU()(recurrent)\n",
    "    \n",
    "    output = TimeDistributed(Dense(french_vocab_size, activation='softmax'))(recurrent)\n",
    "    \n",
    "    model = Model(inputs=inputs, outputs=output)\n",
    "    model.compile(loss=sparse_categorical_crossentropy,\n",
    "                  optimizer=Adam(learning_rate),\n",
    "                  metrics=['accuracy'])\n",
    "    return model\n",
    "    \n",
    "    return None\n",
    "tests.test_encdec_model(encdec_model)\n",
    "\n",
    "\n",
    "# Reshaping the input\n",
    "tmp_x = pad(preproc_english_sentences, preproc_french_sentences.shape[1])\n",
    "tmp_x = tmp_x.reshape((-1, preproc_french_sentences.shape[-2], 1))\n",
    "\n",
    "# Train the neural network\n",
    "encoderdecoder_model = encdec_model(\n",
    "    tmp_x.shape,\n",
    "    preproc_french_sentences.shape[1],\n",
    "    len(english_tokenizer.word_index),\n",
    "    len(french_tokenizer.word_index))\n",
    "encoderdecoder_model.fit(tmp_x, preproc_french_sentences, batch_size=1024, epochs=10, validation_split=0.2)\n",
    "\n",
    "# Print prediction(s)\n",
    "print(logits_to_text(encoderdecoder_model.predict(tmp_x[:1])[0], french_tokenizer))"
   ]
  },
  {
   "cell_type": "markdown",
   "metadata": {},
   "source": [
    "About 65% accuracy on the validation set. Here's the layout:"
   ]
  },
  {
   "cell_type": "code",
   "execution_count": 139,
   "metadata": {},
   "outputs": [
    {
     "name": "stdout",
     "output_type": "stream",
     "text": [
      "_________________________________________________________________\n",
      "Layer (type)                 Output Shape              Param #   \n",
      "=================================================================\n",
      "input_121 (InputLayer)       (None, 21, 1)             0         \n",
      "_________________________________________________________________\n",
      "gru_120 (GRU)                (None, 21)                1449      \n",
      "_________________________________________________________________\n",
      "p_re_lu_98 (PReLU)           (None, 21)                21        \n",
      "_________________________________________________________________\n",
      "repeat_vector_7 (RepeatVecto (None, 21, 21)            0         \n",
      "_________________________________________________________________\n",
      "gru_121 (GRU)                (None, 21, 21)            2709      \n",
      "_________________________________________________________________\n",
      "p_re_lu_99 (PReLU)           (None, 21, 21)            441       \n",
      "_________________________________________________________________\n",
      "time_distributed_138 (TimeDi (None, 21, 344)           7568      \n",
      "=================================================================\n",
      "Total params: 12,188\n",
      "Trainable params: 12,188\n",
      "Non-trainable params: 0\n",
      "_________________________________________________________________\n"
     ]
    }
   ],
   "source": [
    "encoderdecoder_model.summary()"
   ]
  },
  {
   "cell_type": "markdown",
   "metadata": {},
   "source": [
    "### Model 5: Custom (IMPLEMENTATION)\n",
    "Use everything you learned from the previous models to create a model that incorporates embedding and a bidirectional rnn into one model."
   ]
  },
  {
   "cell_type": "code",
   "execution_count": 242,
   "metadata": {},
   "outputs": [
    {
     "name": "stdout",
     "output_type": "stream",
     "text": [
      "Final Model Loaded\n"
     ]
    }
   ],
   "source": [
    "from keras.layers import Reshape\n",
    "from keras.layers.advanced_activations import LeakyReLU\n",
    "\n",
    "def model_final(input_shape, output_sequence_length, english_vocab_size, french_vocab_size,\n",
    "               learning_rate: float=0.001, english_embedding_size: int=512,\n",
    "               hidden_layer_length: int=128, out_sequence_length: int=128):\n",
    "    \"\"\"\n",
    "    Build and train a model that incorporates embedding, encoder-decoder, and bidirectional RNN on x and y\n",
    "    :param input_shape: Tuple of input shape\n",
    "    :param output_sequence_length: Length of output sequence\n",
    "    :param english_vocab_size: Number of unique English words in the dataset\n",
    "    :param french_vocab_size: Number of unique French words in the dataset\n",
    "    :return: Keras model built, but not trained\n",
    "    \"\"\"\n",
    "    inputs = Input(shape=input_shape[1:])\n",
    "    \n",
    "    # Embed the inputs\n",
    "    embed_english = Embedding(english_vocab_size, english_embedding_size, input_length=input_shape[1])(inputs)\n",
    "    \n",
    "    # Bidirectional encoder\n",
    "    recurrent = GRU(units=output_sequence_length, return_sequences=True, activation=None)\n",
    "    bidirectional = Bidirectional(recurrent)(embed_english)\n",
    "    bidirectional = PReLU()(bidirectional)\n",
    "        \n",
    "    # Hidden layer\n",
    "    dense = Dense(hidden_layer_length, activation=None)(bidirectional)\n",
    "    dense = PReLU()(dense)\n",
    "    dense = Flatten()(dense)\n",
    "    dense = RepeatVector(output_sequence_length)(dense)\n",
    "    \n",
    "    # Decoder\n",
    "    recurrent = GRU(units=out_sequence_length, return_sequences=True, activation=None)(dense)\n",
    "    recurrent = PReLU()(recurrent)\n",
    "    \n",
    "    # Output layer\n",
    "    output = TimeDistributed(Dense(french_vocab_size, activation='softmax'))(recurrent)\n",
    "    \n",
    "    model = Model(inputs=inputs, outputs=output)\n",
    "    model.compile(loss=sparse_categorical_crossentropy,\n",
    "                  optimizer=Adam(learning_rate, clipnorm=1.),\n",
    "                  metrics=['accuracy'])\n",
    "    return model\n",
    "\n",
    "tests.test_model_final(model_final)\n",
    "\n",
    "\n",
    "print('Final Model Loaded')"
   ]
  },
  {
   "cell_type": "markdown",
   "metadata": {},
   "source": [
    "## Prediction (IMPLEMENTATION)"
   ]
  },
  {
   "cell_type": "code",
   "execution_count": 243,
   "metadata": {},
   "outputs": [
    {
     "name": "stdout",
     "output_type": "stream",
     "text": [
      "Network architecture:\n",
      "_________________________________________________________________\n",
      "Layer (type)                 Output Shape              Param #   \n",
      "=================================================================\n",
      "input_225 (InputLayer)       (None, 15)                0         \n",
      "_________________________________________________________________\n",
      "embedding_142 (Embedding)    (None, 15, 512)           101888    \n",
      "_________________________________________________________________\n",
      "bidirectional_118 (Bidirecti (None, 15, 42)            67284     \n",
      "_________________________________________________________________\n",
      "p_re_lu_314 (PReLU)          (None, 15, 42)            630       \n",
      "_________________________________________________________________\n",
      "dense_317 (Dense)            (None, 15, 128)           5504      \n",
      "_________________________________________________________________\n",
      "p_re_lu_315 (PReLU)          (None, 15, 128)           1920      \n",
      "_________________________________________________________________\n",
      "flatten_21 (Flatten)         (None, 1920)              0         \n",
      "_________________________________________________________________\n",
      "repeat_vector_38 (RepeatVect (None, 21, 1920)          0         \n",
      "_________________________________________________________________\n",
      "gru_305 (GRU)                (None, 21, 128)           786816    \n",
      "_________________________________________________________________\n",
      "p_re_lu_316 (PReLU)          (None, 21, 128)           2688      \n",
      "_________________________________________________________________\n",
      "time_distributed_232 (TimeDi (None, 21, 344)           44376     \n",
      "=================================================================\n",
      "Total params: 1,011,106\n",
      "Trainable params: 1,011,106\n",
      "Non-trainable params: 0\n",
      "_________________________________________________________________\n",
      "Train on 110288 samples, validate on 27573 samples\n",
      "Epoch 1/10\n",
      "110288/110288 [==============================] - 38s - loss: 1.4934 - acc: 0.6483 - val_loss: nan - val_acc: 0.7717\n",
      "Epoch 2/10\n",
      "110288/110288 [==============================] - 32s - loss: 0.5892 - acc: 0.8289 - val_loss: nan - val_acc: 0.8760\n",
      "Epoch 3/10\n",
      "110288/110288 [==============================] - 32s - loss: 0.3530 - acc: 0.8977 - val_loss: nan - val_acc: 0.9131\n",
      "Epoch 4/10\n",
      "110288/110288 [==============================] - 31s - loss: 0.2673 - acc: 0.9224 - val_loss: nan - val_acc: 0.9347\n",
      "Epoch 5/10\n",
      "110288/110288 [==============================] - 33s - loss: 0.2133 - acc: 0.9380 - val_loss: nan - val_acc: 0.9415\n",
      "Epoch 6/10\n",
      "110288/110288 [==============================] - 32s - loss: 0.1796 - acc: 0.9481 - val_loss: nan - val_acc: 0.9477\n",
      "Epoch 7/10\n",
      "110288/110288 [==============================] - 32s - loss: 0.1510 - acc: 0.9564 - val_loss: nan - val_acc: 0.9561\n",
      "Epoch 8/10\n",
      "110288/110288 [==============================] - 33s - loss: 0.1359 - acc: 0.9608 - val_loss: nan - val_acc: 0.9604\n",
      "Epoch 9/10\n",
      "110288/110288 [==============================] - 37s - loss: 0.1226 - acc: 0.9646 - val_loss: nan - val_acc: 0.9618\n",
      "Epoch 10/10\n",
      "110288/110288 [==============================] - 33s - loss: 0.1092 - acc: 0.9685 - val_loss: nan - val_acc: 0.9670\n",
      "Sample 1:\n",
      "il a vu un vieux camion jaune <PAD> <PAD> <PAD> <PAD> <PAD> <PAD> <PAD> <PAD> <PAD> <PAD> <PAD> <PAD> <PAD> <PAD>\n",
      "Il a vu un vieux camion jaune\n",
      "Sample 2:\n",
      "new jersey est parfois calme pendant l' automne et il est neigeux en avril <PAD> <PAD> <PAD> <PAD> <PAD> <PAD> <PAD>\n",
      "<PAD> <PAD> <PAD> <PAD> <PAD> <PAD> <PAD> <PAD> <PAD> <PAD> <PAD> <PAD> <PAD> <PAD> <PAD> <PAD> <PAD> <PAD> <PAD> <PAD> <PAD>\n"
     ]
    }
   ],
   "source": [
    "import numpy as np\n",
    "from keras.preprocessing.sequence import pad_sequences\n",
    "\n",
    "\n",
    "def final_predictions(x, y, x_tk, y_tk):\n",
    "    \"\"\"\n",
    "    Gets predictions using the final model\n",
    "    :param x: Preprocessed English data\n",
    "    :param y: Preprocessed French data\n",
    "    :param x_tk: English tokenizer\n",
    "    :param y_tk: French tokenizer\n",
    "    \"\"\"\n",
    "    # Train neural network using model_final\n",
    "    model = model_final(\n",
    "        x.shape,\n",
    "        y.shape[1],\n",
    "        len(x_tk.word_index),\n",
    "        len(y_tk.word_index))\n",
    "    \n",
    "    print('Network architecture:')\n",
    "    model.summary()\n",
    "    \n",
    "    model.fit(x, y, batch_size=256, epochs=10, validation_split=0.2)\n",
    "    \n",
    "    ## DON'T EDIT ANYTHING BELOW THIS LINE\n",
    "    y_id_to_word = {value: key for key, value in y_tk.word_index.items()}\n",
    "    y_id_to_word[0] = '<PAD>'\n",
    "\n",
    "    sentence = 'he saw a old yellow truck'\n",
    "    sentence = [x_tk.word_index[word] for word in sentence.split()]\n",
    "    sentence = pad_sequences([sentence], maxlen=x.shape[-1], padding='post')\n",
    "    sentences = np.array([sentence[0], x[0]])\n",
    "    predictions = model.predict(sentences, len(sentences))\n",
    "\n",
    "    print('Sample 1:')\n",
    "    print(' '.join([y_id_to_word[np.argmax(x)] for x in predictions[0]]))\n",
    "    print('Il a vu un vieux camion jaune')\n",
    "    print('Sample 2:')\n",
    "    print(' '.join([y_id_to_word[np.argmax(x)] for x in predictions[1]]))\n",
    "    print(' '.join([y_id_to_word[np.argmax(x)] for x in y[0]]))\n",
    "\n",
    "\n",
    "final_predictions(preproc_english_sentences, preproc_french_sentences, english_tokenizer, french_tokenizer)"
   ]
  },
  {
   "cell_type": "markdown",
   "metadata": {},
   "source": [
    "## Submission\n",
    "When you are ready to submit your project, do the following steps:\n",
    "1. Ensure you pass all points on the [rubric](https://review.udacity.com/#!/rubrics/1004/view).\n",
    "2. Submit the following in a zip file.\n",
    "  - `helper.py`\n",
    "  - `machine_translation.ipynb`\n",
    "  - `machine_translation.html`\n",
    "    - You can export the notebook by navigating to **File -> Download as -> HTML (.html)**."
   ]
  }
 ],
 "metadata": {
  "kernelspec": {
   "display_name": "Python [conda env:aind-nlp-capstone]",
   "language": "python",
   "name": "conda-env-aind-nlp-capstone-py"
  },
  "language_info": {
   "codemirror_mode": {
    "name": "ipython",
    "version": 3
   },
   "file_extension": ".py",
   "mimetype": "text/x-python",
   "name": "python",
   "nbconvert_exporter": "python",
   "pygments_lexer": "ipython3",
   "version": "3.5.4"
  }
 },
 "nbformat": 4,
 "nbformat_minor": 1
}
